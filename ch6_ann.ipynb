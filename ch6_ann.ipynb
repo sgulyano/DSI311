{
  "nbformat": 4,
  "nbformat_minor": 0,
  "metadata": {
    "colab": {
      "provenance": [],
      "toc_visible": true
    },
    "kernelspec": {
      "name": "python3",
      "display_name": "Python 3"
    },
    "language_info": {
      "name": "python"
    }
  },
  "cells": [
    {
      "cell_type": "markdown",
      "source": [
        "# Chapter 6: Artificial Neural Networks\n",
        "\n",
        "โค้ดตัวอย่างการสร้างโมเดล Artificial Neural Networks (ANNs) ในการจำแนกประเภทเสื้อผ้าจากภาพ ตัวอย่างนี้ใช้ชุดข้อมูล [Fashion-MNIST](https://www.tensorflow.org/datasets/catalog/fashion_mnist) โค้ดถูกเขียนโดยใช้ไลบรารี่ [`Tensorflow/Keras`](https://keras.io/about/)\n",
        "\n",
        "**Reference**: https://medium.com/@cdabakoglu/artificial-neural-network-with-keras-d858f82f90c5"
      ],
      "metadata": {
        "id": "G8Wp5Zo3y-U8"
      }
    },
    {
      "cell_type": "markdown",
      "source": [
        "### ขั้นตอน\n",
        "1. Import Package and Module\n",
        "2. Load Dataset\n",
        "3. Prepare Data\n",
        "4. Train ANN model\n",
        "5. Model Evaluation"
      ],
      "metadata": {
        "id": "H_aLzjIU1DyA"
      }
    },
    {
      "cell_type": "markdown",
      "source": [
        "## 1. Import Package and Module\n",
        "\n",
        "ทำการนำเข้าแพ็กเกจและโมดูลที่จำเป็นต้องใช้อย่าง Tensorflow และ Keras ส่วน Matplotlib ใช้สำหรับแสดงผล"
      ],
      "metadata": {
        "id": "JZM5cJq41tLw"
      }
    },
    {
      "cell_type": "code",
      "source": [
        "import tensorflow as tf\n",
        "from tensorflow.keras import Sequential\n",
        "from tensorflow.keras.layers import Dense\n",
        "\n",
        "import matplotlib.pyplot as plt"
      ],
      "metadata": {
        "id": "q5Xxk_fk0TqN"
      },
      "execution_count": 1,
      "outputs": []
    },
    {
      "cell_type": "markdown",
      "source": [
        "## 2. Load Dataset\n",
        "\n",
        "ทำการโหลดชุดข้อมูล Fashion-MNIST ซึ่งแบ่งข้อมูลออกเป็น 2 ส่วน เป็นชุดข้อมูลสอน (Training Data) และชุดข้อมูลทดสอบ (Test Data) ไว้ให้แล้ว ส่วนข้อมูล Input เป็นภาพขาวดำขนาด 28x28 pixels ส่วนข้อมูล Output เป็นเลข 0-9 แทนเสื้อผ้าแต่ละประเภทดังนี้\n",
        "\n",
        "|Label |\tDescription |\n",
        "|----|----|\n",
        "| 0 |\tT-shirt/top |\n",
        "| 1\t| Trouser |\n",
        "| 2\t| Pullover |\n",
        "| 3\t| Dress |\n",
        "| 4\t| Coat |\n",
        "| 5\t| Sandal |\n",
        "| 6\t| Shirt |\n",
        "| 7\t| Sneaker |\n",
        "| 8\t| Bag |\n",
        "| 9\t| Ankle boot |\n",
        "\n"
      ],
      "metadata": {
        "id": "Qjq0SJaR2LMn"
      }
    },
    {
      "cell_type": "code",
      "execution_count": 2,
      "metadata": {
        "id": "aJCpMUnvyI3X"
      },
      "outputs": [],
      "source": [
        "(x_train, y_train), (x_test, y_test) = tf.keras.datasets.fashion_mnist.load_data()"
      ]
    },
    {
      "cell_type": "markdown",
      "source": [
        "Sanity Check: ลองพล็อตภาพในชุดข้อมูลดู"
      ],
      "metadata": {
        "id": "rFBbwKNS2YQj"
      }
    },
    {
      "cell_type": "code",
      "source": [
        "plt.figure(figsize=(4,4))\n",
        "for i in range(4):\n",
        "    plt.subplot(2,2,i+1)\n",
        "    plt.axis('off')\n",
        "    plt.imshow(x_train[i], cmap='gray', interpolation='none')\n",
        "    plt.title(y_train[i])"
      ],
      "metadata": {
        "colab": {
          "base_uri": "https://localhost:8080/",
          "height": 264
        },
        "id": "cGnJ_p7h0dqU",
        "outputId": "c15236d1-30ee-45a9-c874-aab86fe416aa"
      },
      "execution_count": 3,
      "outputs": [
        {
          "output_type": "display_data",
          "data": {
            "text/plain": [
              "<Figure size 288x288 with 4 Axes>"
            ],
            "image/png": "[encoded data removed]"
          },
          "metadata": {
            "needs_background": "light"
          }
        }
      ]
    },
    {
      "cell_type": "markdown",
      "source": [
        "## 3. Prepare Data\n",
        "\n",
        "การเตรียมข้อมูลให้สามารถใช้ในการสร้างโมเดลได้ เนื่องจากโมเดล ANN รองรับ Input เป็นอาเรย์ 1 มิติเท่านั้น จึงทำการนำค่า Pixel ที่เป็นอาเรย์ 2 มิติ มาเรียงเป็นอาเรย์ 1 มิติแทน ส่วนข้อมูล Output เดิมเป็น Label Encoding ที่ใช้เลข 0-9 แทนเสื้อผ้าทั้ง 10 ประเภท จะถูกแปลงเป็น One-Hot Encoding ด้วยฟังก์ชัน [`to_categorical`](https://www.tensorflow.org/api_docs/python/tf/keras/utils/to_categorical) เพื่อให้การคำนวณ Loss Function ทำได้ง่าย"
      ],
      "metadata": {
        "id": "L2DjfPl73omV"
      }
    },
    {
      "cell_type": "code",
      "source": [
        "x_train = x_train.reshape(-1,784)\n",
        "y_train = tf.keras.utils.to_categorical(y_train)\n",
        "x_test = x_test.reshape(-1,784)\n",
        "y_test = tf.keras.utils.to_categorical(y_test)"
      ],
      "metadata": {
        "id": "XxRBXHDS2AVg"
      },
      "execution_count": 4,
      "outputs": []
    },
    {
      "cell_type": "markdown",
      "source": [
        "## 4. Train ANN model\n",
        "\n",
        "เริ่มต้นจากการกำหนด Hyperparameter ของ ANN โมเดล โดยให้มี Hidden Layer 2 ชั้น ที่มีจำนวน 8 และ 6 units ตามลำดับ โดยมี ReLU เป็น Activation Function ส่วน Output Layer มี 10 units เพราะมี 10 ประเภท และใช้ Softmax เป็น Activation Function  \n",
        "\n",
        "กำหนดให้ Loss Function เป็น Categorical Cross-Entropy (CE) $$ CE = -\\sum_{i=1}^n y_i \\log \\hat{y}_i $$ โดย $n$ เป็นจำนวนตัวอย่าง, $y_i$ เป็นประเภทของตัวอย่าง $i$, $\\hat{y}_i$ เป็นประเภทที่โมเดลทำนายของตัวอย่าง $i$ แล้วใช้อัลกอริทึม Adam เป็น Optimization Method และประเมินโมเดลด้วยความแม่นยำ (Accuracy)"
      ],
      "metadata": {
        "id": "x6KYPbnM4j_o"
      }
    },
    {
      "cell_type": "code",
      "source": [
        "classifier = Sequential()\n",
        "classifier.add(Dense(units=8, kernel_initializer=\"uniform\", activation=\"relu\", input_dim=x_train.shape[1])) # Hidden Layer 1 with 8 nodes\n",
        "classifier.add(Dense(units=6, kernel_initializer=\"uniform\", activation=\"relu\"))  # Hidden Layer 2 with 6 nodes\n",
        "classifier.add(Dense(units=y_train.shape[1], kernel_initializer=\"uniform\", activation=\"softmax\")) # Output Layer\n",
        "classifier.compile(optimizer = \"adam\", loss = \"categorical_crossentropy\", metrics = [\"accuracy\"])"
      ],
      "metadata": {
        "id": "zddttWy20lSP"
      },
      "execution_count": 5,
      "outputs": []
    },
    {
      "cell_type": "markdown",
      "source": [
        "Sanity Check: ใช้ฟังก์ชัน [`summary`](https://www.tensorflow.org/api_docs/python/tf/keras/Model#summary) พิมพ์โครงสร้างของโมเดล และใช้ฟังก์ชัน [`plot_model`](https://www.tensorflow.org/api_docs/python/tf/keras/utils/plot_model) แสดงโครงสร้างของโมเดล"
      ],
      "metadata": {
        "id": "mEW63XYs9qU5"
      }
    },
    {
      "cell_type": "code",
      "source": [
        "classifier.summary()"
      ],
      "metadata": {
        "colab": {
          "base_uri": "https://localhost:8080/"
        },
        "id": "Qk8wdFFWy8T5",
        "outputId": "7f4c10f6-f083-44d2-cc17-3f2073652d3f"
      },
      "execution_count": 6,
      "outputs": [
        {
          "output_type": "stream",
          "name": "stdout",
          "text": [
            "Model: \"sequential\"\n",
            "_________________________________________________________________\n",
            " Layer (type)                Output Shape              Param #   \n",
            "=================================================================\n",
            " dense (Dense)               (None, 8)                 6280      \n",
            "                                                                 \n",
            " dense_1 (Dense)             (None, 6)                 54        \n",
            "                                                                 \n",
            " dense_2 (Dense)             (None, 10)                70        \n",
            "                                                                 \n",
            "=================================================================\n",
            "Total params: 6,404\n",
            "Trainable params: 6,404\n",
            "Non-trainable params: 0\n",
            "_________________________________________________________________\n"
          ]
        }
      ]
    },
    {
      "cell_type": "code",
      "source": [
        "tf.keras.utils.plot_model(classifier, show_shapes=True)"
      ],
      "metadata": {
        "colab": {
          "base_uri": "https://localhost:8080/",
          "height": 422
        },
        "id": "5_fHG_dgzhqk",
        "outputId": "a632208b-277d-47dd-eb1b-8051364daf1b"
      },
      "execution_count": 7,
      "outputs": [
        {
          "output_type": "execute_result",
          "data": {
            "image/png": "[encoded data removed]",
            "text/plain": [
              "<IPython.core.display.Image object>"
            ]
          },
          "metadata": {},
          "execution_count": 7
        }
      ]
    },
    {
      "cell_type": "markdown",
      "source": [
        "ทำการสร้างโมเดลโดยเรียกฟังก์ชัน [`fit`](https://www.tensorflow.org/api_docs/python/tf/keras/Model#fit) โดยกำหนดจำนวน epoch เป็น 10 รอบ และขนาด batch เป็น 32 ตัวอย่าง"
      ],
      "metadata": {
        "id": "IKhV4zB7-Muo"
      }
    },
    {
      "cell_type": "code",
      "source": [
        "classifier.fit(x_train, y_train, epochs=10, batch_size=32)"
      ],
      "metadata": {
        "colab": {
          "base_uri": "https://localhost:8080/"
        },
        "id": "0ivmvspJ29MD",
        "outputId": "edd01e08-ebad-4395-c932-7bc1b8abbc7b"
      },
      "execution_count": 8,
      "outputs": [
        {
          "output_type": "stream",
          "name": "stdout",
          "text": [
            "Epoch 1/10\n",
            "1875/1875 [==============================] - 4s 2ms/step - loss: 0.6686 - accuracy: 0.7560\n",
            "Epoch 2/10\n",
            "1875/1875 [==============================] - 5s 2ms/step - loss: 0.5068 - accuracy: 0.8202\n",
            "Epoch 3/10\n",
            "1875/1875 [==============================] - 6s 3ms/step - loss: 0.4829 - accuracy: 0.8299\n",
            "Epoch 4/10\n",
            "1875/1875 [==============================] - 3s 1ms/step - loss: 0.4707 - accuracy: 0.8345\n",
            "Epoch 5/10\n",
            "1875/1875 [==============================] - 3s 1ms/step - loss: 0.4548 - accuracy: 0.8404\n",
            "Epoch 6/10\n",
            "1875/1875 [==============================] - 3s 1ms/step - loss: 0.4518 - accuracy: 0.8417\n",
            "Epoch 7/10\n",
            "1875/1875 [==============================] - 3s 2ms/step - loss: 0.4474 - accuracy: 0.8436\n",
            "Epoch 8/10\n",
            "1875/1875 [==============================] - 3s 2ms/step - loss: 0.4399 - accuracy: 0.8454\n",
            "Epoch 9/10\n",
            "1875/1875 [==============================] - 4s 2ms/step - loss: 0.4346 - accuracy: 0.8479\n",
            "Epoch 10/10\n",
            "1875/1875 [==============================] - 3s 1ms/step - loss: 0.4296 - accuracy: 0.8482\n"
          ]
        },
        {
          "output_type": "execute_result",
          "data": {
            "text/plain": [
              "<keras.callbacks.History at 0x7f3c317a2ca0>"
            ]
          },
          "metadata": {},
          "execution_count": 8
        }
      ]
    },
    {
      "cell_type": "markdown",
      "source": [
        "## 5. Model Evaluation\n",
        "\n",
        "ทำการทดสอบโมเดลโดยลองทำนายภาพในชุดข้อมูลทดสอบ และคำนวณค่าความแม่นยำ"
      ],
      "metadata": {
        "id": "17KqHFnS-fi1"
      }
    },
    {
      "cell_type": "code",
      "source": [
        "_, accuracy = classifier.evaluate(x_test, y_test)\n",
        "print('Accuracy: %.2f' % (accuracy*100))"
      ],
      "metadata": {
        "colab": {
          "base_uri": "https://localhost:8080/"
        },
        "id": "uqEUY0Ck3Cc2",
        "outputId": "e9a0fb4d-08ca-4465-ed1b-d20c23a1a2c1"
      },
      "execution_count": 9,
      "outputs": [
        {
          "output_type": "stream",
          "name": "stdout",
          "text": [
            "313/313 [==============================] - 1s 1ms/step - loss: 0.4877 - accuracy: 0.8308\n",
            "Accuracy: 83.08\n"
          ]
        }
      ]
    },
    {
      "cell_type": "markdown",
      "source": [
        "------"
      ],
      "metadata": {
        "id": "an0UQ8KH-oC8"
      }
    }
  ]
}